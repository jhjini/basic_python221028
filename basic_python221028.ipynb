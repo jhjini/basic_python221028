{
  "nbformat": 4,
  "nbformat_minor": 0,
  "metadata": {
    "colab": {
      "provenance": [],
      "authorship_tag": "ABX9TyNxQIiJhc3eEjbKCagpyrUh",
      "include_colab_link": true
    },
    "kernelspec": {
      "name": "python3",
      "display_name": "Python 3"
    },
    "language_info": {
      "name": "python"
    }
  },
  "cells": [
    {
      "cell_type": "markdown",
      "metadata": {
        "id": "view-in-github",
        "colab_type": "text"
      },
      "source": [
        "<a href=\"https://colab.research.google.com/github/jhjini/basic_python221028/blob/main/basic_python221028.ipynb\" target=\"_parent\"><img src=\"https://colab.research.google.com/assets/colab-badge.svg\" alt=\"Open In Colab\"/></a>"
      ]
    },
    {
      "cell_type": "markdown",
      "source": [
        "1. 사용자로부터 두 개의 정수를 받아서 정수의 합, 정수의 차, 정수의 곱, 정수의 펑균, 큰 수, 작은 수를 계산하여 화면에 출럭하는 프로그랩을 작셩하라 파이썬이 제공하는 내 장 함수 max(x, y), min(x, y)을 사용해보자."
      ],
      "metadata": {
        "id": "WMhf6iUwdoQU"
      }
    },
    {
      "cell_type": "code",
      "execution_count": 2,
      "metadata": {
        "colab": {
          "base_uri": "https://localhost:8080/"
        },
        "id": "5_t9lfCZaT_b",
        "outputId": "11f13dc6-8535-45e3-f860-b38a0008a0d2"
      },
      "outputs": [
        {
          "output_type": "stream",
          "name": "stdout",
          "text": [
            "x의 값은?: 9\n",
            "y의 값은?: 6\n",
            "두 수의 합은 : 15\n",
            "두 수의 차는 : 3\n",
            "두 수의 곱은 : 54\n",
            "두 수의 평균은 : 7.5\n",
            "큰 수는? : 9\n",
            "작은 수는? : 6\n"
          ]
        }
      ],
      "source": [
        "x = int(input(\"x의 값은?: \"))\n",
        "y = int(input(\"y의 값은?: \"))\n",
        "print(\"두 수의 합은 :\", x + y)\n",
        "print(\"두 수의 차는 :\", x - y)\n",
        "print(\"두 수의 곱은 :\", x * y)\n",
        "print(\"두 수의 평균은 :\", (x + y)/2)\n",
        "print(\"큰 수는? :\", max(x, y))\n",
        "print(\"작은 수는? :\", min(x, y))"
      ]
    },
    {
      "cell_type": "markdown",
      "source": [
        "2. 원기둥의 부피를 계산하는 프로그램을 작성해보자. 원기둥의 부피는 다음과 같이 계산한다."
      ],
      "metadata": {
        "id": "qGJ_OLYbeFgE"
      }
    },
    {
      "cell_type": "code",
      "source": [
        "r = float(input(\"r값은? :\"))\n",
        "h = float(input(\"h값은? :\"))\n",
        "\n",
        "vol = 3.141592 * r**2 * h\n",
        "print(\"원기둥의 부피: \", vol)"
      ],
      "metadata": {
        "colab": {
          "base_uri": "https://localhost:8080/"
        },
        "id": "h_D7ZNcRcv5g",
        "outputId": "b0f805b2-a180-45b7-c722-3d6870e4ce36"
      },
      "execution_count": 3,
      "outputs": [
        {
          "output_type": "stream",
          "name": "stdout",
          "text": [
            "r값은? :10\n",
            "h값은? :100\n",
            "원기둥의 부피:  31415.92\n"
          ]
        }
      ]
    },
    {
      "cell_type": "markdown",
      "source": [
        "3. 사용자로부터 정수를 받아서 정수의 자리수의 합을 계산하는 프로그랩을 작성하여 보자. 예릍 들어서 사용자가 1234를 입럭하였다면 1+2+3+4를 계산하면 된다. 나머지 연산자와 정수 나눗셈 연산자 //를 적극적으로 사용해보자."
      ],
      "metadata": {
        "id": "E9Jt4UdXfG1q"
      }
    },
    {
      "cell_type": "code",
      "source": [
        "number = int(input(\"정수를 입력하시오.: \"))\n",
        "\n",
        "sum = 0\n",
        "sum = sum + number % 10\n",
        "number = number // 10\n",
        "\n",
        "sum = sum + number % 10\n",
        "number = number // 10\n",
        "\n",
        "sum = sum + number % 10\n",
        "number = number // 10\n",
        "\n",
        "sum = sum + number % 10\n",
        "number = number // 10\n",
        "print(\"자리수의 합은: \", str(sum))"
      ],
      "metadata": {
        "colab": {
          "base_uri": "https://localhost:8080/"
        },
        "id": "oDM7bL-ofT95",
        "outputId": "31a7e67a-bc00-4a14-e475-adae9fc2831d"
      },
      "execution_count": 4,
      "outputs": [
        {
          "output_type": "stream",
          "name": "stdout",
          "text": [
            "정수를 입력하시오.: 1234\n",
            "자리수의 합은:  10\n"
          ]
        }
      ]
    },
    {
      "cell_type": "markdown",
      "source": [
        "4. 사용자로부터 두 점의 좌표 (x1, y1)과 (x2, y2)를 입력받아서 두 점 사이의 거리를 계산하는 프로그랩을 작성해보자. 스크립트 모드로 작성하라. 거리는 다음 식으로 계산한다."
      ],
      "metadata": {
        "id": "ObS3m7fUhINl"
      }
    },
    {
      "cell_type": "code",
      "source": [
        "x1 = int(input(\"x1값을 입력하시오.: \"))\n",
        "x2 = int(input(\"y1값을 입력하시오.: \"))\n",
        "y1 = int(input(\"x2값을 입력하시오.: \"))\n",
        "y2 = int(input(\"y2값을 입력하시오.: \"))\n",
        "dist = ((x2-x1)**2 * (y2-y1)**2)** 0.5\n",
        "print(\"두 점의 사이의 거리는? \", dist, \"입니다.\")"
      ],
      "metadata": {
        "colab": {
          "base_uri": "https://localhost:8080/"
        },
        "id": "r7s2MGs7h34a",
        "outputId": "52da241f-f848-4319-a07e-f01652dc0091"
      },
      "execution_count": 9,
      "outputs": [
        {
          "output_type": "stream",
          "name": "stdout",
          "text": [
            "x1값을 입력하시오.: 0\n",
            "y1값을 입력하시오.: 100\n",
            "x2값을 입력하시오.: 0\n",
            "y2값을 입력하시오.: 100\n",
            "두 점의 사이의 거리는?  10000.0 입니다.\n"
          ]
        }
      ]
    },
    {
      "cell_type": "markdown",
      "source": [
        "5. 4번문제에서 계산한 거리가 맞는지, 터틀그래픽으로 확인해보자. 거북이를 읜쪽으로 45도 회전하여 141만큼 전진시킨다. 다시 거북이를 (0, 0)으로 이동하고\n",
        "0도를 가리키게 한 후 에 100만큼 전진하고 왼쪽으로 90도 회전하여 \n",
        "100만큼 전진한다. 화면에 그려진 직선이 일치하는가?\n",
        "거북이의 방향을 설정하려면 setheading()을 사용하는 것이 편리하다. 예를 들어서 0도를 가리키게 하려면 setheading(0)이 된다."
      ],
      "metadata": {
        "id": "yyksvCI4lLdM"
      }
    },
    {
      "cell_type": "code",
      "source": [
        "import turtle\n",
        "t = turtle.Turtle()\n",
        "t.shape(\"turtle\")\n",
        "t.left(45)\n",
        "t.forward(141)\n",
        "t.setheading(0)\n",
        "t.goto(0,0)\n",
        "t.fd(100)\n",
        "t.lt(90)\n",
        "t.fd(100)"
      ],
      "metadata": {
        "id": "332J86bwnoO8"
      },
      "execution_count": null,
      "outputs": []
    },
    {
      "cell_type": "markdown",
      "source": [
        "6. 사용자로부터 두 점을 입력받아서 터틀 그래픽을 이용하여 두 점을 연결하는 직선을 그린다. 직선의 끝점에 직선의 길이를 계산하여 츨럭해보자."
      ],
      "metadata": {
        "id": "4aIYqus9n3ku"
      }
    },
    {
      "cell_type": "code",
      "source": [
        "import turtle\n",
        "t = turtle.Turtle()\n",
        "t.shape(\"turtle\")\n",
        "x1 = int(input(\"x1:\"))\n",
        "x1:0\n",
        "y1 = int(input(\"y1:\"))\n",
        "y1:0\n",
        "x2 = int(input(\"x2:\"))\n",
        "x2:100\n",
        "y2 = int(input(\"y2:\"))\n",
        "y2:100\n",
        "dist = ((x1 - x2)**2*(y1-y2)**2)**0.5\n",
        "t.up()\n",
        "t.goto(x1,y1)\n",
        "t.down()\n",
        "t.goto(x2,y2)\n",
        "t.write(\"점의 길이=\" + str(dist))\n"
      ],
      "metadata": {
        "id": "S8WWhO10pTyh"
      },
      "execution_count": null,
      "outputs": []
    }
  ]
}